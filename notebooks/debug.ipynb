{
 "cells": [
  {
   "cell_type": "code",
   "execution_count": 1,
   "metadata": {},
   "outputs": [],
   "source": [
    "from scripts.world_manager import Game, save_game_to_json, load_game_from_json"
   ]
  },
  {
   "cell_type": "code",
   "execution_count": 2,
   "metadata": {},
   "outputs": [],
   "source": [
    "mc = Game()\n"
   ]
  },
  {
   "cell_type": "code",
   "execution_count": 3,
   "metadata": {},
   "outputs": [
    {
     "name": "stdout",
     "output_type": "stream",
     "text": [
      "{'main_character': {'id': '0', 'name': 'Liam', 'age': 20, 'what_room_am_i_in': 'bedroom', 'where_i_am': 'home', 'what_world_am_i_in': 'main_world', 'character_status': {'health': 100, 'fatigue': 0, 'stress': 0, 'arousal': 0, 'pain': 0, 'willpower': 0, 'revealing_outfit': 0}, 'character_traits': {}, 'core_characteristics': {'intelligence': 100, 'charisma': 20, 'strength': 50, 'speed': 50}, 'lewd_characteristics': {'seduction': 10, 'purity': 1000, 'promiscuity': 0, 'exhibitionnism': 0, 'submissiveness': 0}, 'sex_interest': {'animals': 0, 'youngers': 0, 'milfs': 0, 'bdsm': 0, 'rape': 0}, 'sex_skills': {'oral': 0, 'chest': 0, 'hands': 0, 'dick': 0, 'pussy': 0, 'anal': 0, 'buttock': 0, 'thights': 0, 'feet': 0}, 'skills': {'swimming': 0, 'dancing': 0, 'athletics': 0, 'housekeeping': 0, 'stealing': 0, 'religion': 0}, 'body': {'body_size': 'medium', 'chest_size': 'medium', 'buttock_size': 'medium', 'dick_size': 'medium', 'body_type': 'slim', 'hair_type': 'straight', 'hair_length': 'long', 'eye_color': 'blue', 'skin_color': 'white'}, 'school_performance': {'math': 0, 'biology': 0, 'chemical': 0, 'geography': 0, 'physical': 0, 'philosophy': 0, 'history': 0, 'art': 0}}, 'secondary_characters': [], 'random_characters': [], 'main_world': {'id': '0', 'world_name': 'main_world', 'world_age_days': 0, 'minutes': 0, 'hours': 0, 'day': 0, 'week': 0, 'year': 0, 'season': 'winter', 'map': {'locations': []}, 'world_characteristics': {'economy': 1, 'violence': 1, 'corruption': 1, 'street_animals': 1, 'monsters': 1}}, 'other_worlds': []}\n"
     ]
    }
   ],
   "source": [
    "print(mc.to_dict())"
   ]
  },
  {
   "cell_type": "code",
   "execution_count": 4,
   "metadata": {},
   "outputs": [],
   "source": [
    "save_game_to_json(mc, 'save_test.json')"
   ]
  },
  {
   "cell_type": "code",
   "execution_count": 5,
   "metadata": {},
   "outputs": [
    {
     "name": "stdout",
     "output_type": "stream",
     "text": [
      "<class 'scripts.world_manager.Game'>\n"
     ]
    }
   ],
   "source": [
    "mc2 = load_game_from_json('save_test.json')\n",
    "print(type(mc2))"
   ]
  },
  {
   "cell_type": "code",
   "execution_count": 6,
   "metadata": {},
   "outputs": [
    {
     "data": {
      "text/plain": [
       "20"
      ]
     },
     "execution_count": 6,
     "metadata": {},
     "output_type": "execute_result"
    }
   ],
   "source": [
    "t = mc2.main_character.age\n",
    "t"
   ]
  },
  {
   "cell_type": "code",
   "execution_count": null,
   "metadata": {},
   "outputs": [],
   "source": []
  }
 ],
 "metadata": {
  "kernelspec": {
   "display_name": "Python 3",
   "language": "python",
   "name": "python3"
  },
  "language_info": {
   "codemirror_mode": {
    "name": "ipython",
    "version": 3
   },
   "file_extension": ".py",
   "mimetype": "text/x-python",
   "name": "python",
   "nbconvert_exporter": "python",
   "pygments_lexer": "ipython3",
   "version": "3.10.11"
  }
 },
 "nbformat": 4,
 "nbformat_minor": 2
}
