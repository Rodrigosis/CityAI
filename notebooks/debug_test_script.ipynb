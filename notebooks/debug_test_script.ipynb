{
 "cells": [
  {
   "cell_type": "code",
   "execution_count": 1,
   "metadata": {},
   "outputs": [],
   "source": [
    "import random"
   ]
  },
  {
   "cell_type": "code",
   "execution_count": 68,
   "metadata": {},
   "outputs": [
    {
     "name": "stdout",
     "output_type": "stream",
     "text": [
      "streets: 33\n",
      "buildings: 82\n",
      "people: 410\n",
      "cities: 5\n",
      "total people: 2050\n"
     ]
    }
   ],
   "source": [
    "streets = []\n",
    "for i in range(random.randint(10, 50)):\n",
    "    \n",
    "    buildings = []\n",
    "    for i in range(random.randint(1, 4)):\n",
    "        buildings.append(\"building\")\n",
    "    streets.append(buildings)\n",
    "\n",
    "count = 0\n",
    "\n",
    "for i in streets:\n",
    "    count += len(i)\n",
    "\n",
    "print(f\"streets: {len(streets)}\")\n",
    "print(f\"buildings: {count}\")\n",
    "print(f\"people: {count*5}\")\n",
    "\n",
    "print(f\"cities: {5}\")\n",
    "print(f\"total people: {count*5*5}\")"
   ]
  },
  {
   "cell_type": "code",
   "execution_count": 4,
   "metadata": {},
   "outputs": [
    {
     "name": "stdout",
     "output_type": "stream",
     "text": [
      "streets: 13\n",
      "buildings: 32\n",
      "people: 160\n"
     ]
    }
   ],
   "source": [
    "count = 0\n",
    "\n",
    "for i in streets:\n",
    "    count += len(i)\n",
    "\n",
    "print(f\"streets: {len(streets)}\")\n",
    "print(f\"buildings: {count}\")\n",
    "print(f\"people: {count*5}\")"
   ]
  }
 ],
 "metadata": {
  "kernelspec": {
   "display_name": "Python 3",
   "language": "python",
   "name": "python3"
  },
  "language_info": {
   "codemirror_mode": {
    "name": "ipython",
    "version": 3
   },
   "file_extension": ".py",
   "mimetype": "text/x-python",
   "name": "python",
   "nbconvert_exporter": "python",
   "pygments_lexer": "ipython3",
   "version": "3.10.11"
  }
 },
 "nbformat": 4,
 "nbformat_minor": 2
}
